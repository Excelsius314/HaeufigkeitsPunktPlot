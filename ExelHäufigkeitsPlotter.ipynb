{
  "cells": [
    {
      "cell_type": "code",
      "execution_count": 7,
      "metadata": {
        "id": "V6bA1onmj8Dn"
      },
      "outputs": [],
      "source": [
        "import pandas as pd\n",
        "import matplotlib.pyplot as plt\n",
        "import numpy as np\n",
        "import json\n",
        "import os"
      ]
    },
    {
      "cell_type": "code",
      "execution_count": 8,
      "metadata": {
        "id": "1c0zZse8hL2B"
      },
      "outputs": [],
      "source": [
        "config_file = [file for file in os.listdir('.') if os.path.splitext(file)[1] == \".json\"][0]\n",
        "configuration = json.loads(open(config_file, \"r\").read())"
      ]
    },
    {
      "cell_type": "code",
      "execution_count": 9,
      "metadata": {
        "id": "9l_rhwrnr0GO"
      },
      "outputs": [],
      "source": [
        "file_name = configuration[\"Exel_Datei_Name\"]\n",
        "df : pd.DataFrame = pd.read_excel(file_name)"
      ]
    },
    {
      "cell_type": "code",
      "execution_count": 10,
      "metadata": {
        "id": "jWgdR8T2nfKg"
      },
      "outputs": [],
      "source": [
        "\n",
        "data_id_column = df.columns[0]\n",
        "data_id_dtype = \"int32\"\n",
        "\n",
        "x_column = configuration[\"Graphik_X_Spalten_Name\"]\n",
        "x_dtype = \"float\" if configuration[\"Graphik_X_Spalten_Datentyp\"] == \"Kommazahl\" else \"int32\"\n",
        "\n",
        "y_column = configuration[\"Graphik_Y_Spalten_Name\"]\n",
        "y_dtype = \"float\" if configuration[\"Graphik_Y_Spalten_Datentyp\"] == \"Kommazahl\" else \"int32\"\n",
        "\n",
        "x_label = configuration[\"Graphik_X_Name\"]\n",
        "y_label = configuration[\"Graphik_Y_Name\"]\n",
        "\n",
        "use_grid = True if configuration[\"Gitter\"] == \"ja\" else False\n",
        "\n",
        "use_trend_line = True if configuration[\"Trendlinie\"] == \"ja\" else False\n",
        "\n",
        "\n",
        "b_trend_line = float(configuration[\"Trendlinie_Steigung\"])\n",
        "a_trend_line = float(configuration[\"Trendlinie_Konstante\"])"
      ]
    },
    {
      "cell_type": "code",
      "execution_count": 11,
      "metadata": {
        "id": "4NjTzRr3kF0m"
      },
      "outputs": [],
      "source": [
        "df.drop(0,inplace=True) # Drop Column Names\n",
        "df = df.astype({data_id_column : data_id_dtype, x_column : x_dtype, y_column : y_dtype}) # Cast to proper types"
      ]
    },
    {
      "cell_type": "code",
      "execution_count": 13,
      "metadata": {
        "id": "IT86Wsh7kMuH"
      },
      "outputs": [],
      "source": [
        "total_len = len(df)\n",
        "counts = df.groupby([x_column,y_column]).count()/ total_len"
      ]
    },
    {
      "cell_type": "code",
      "execution_count": 14,
      "metadata": {
        "id": "QxjNGT_jsk01"
      },
      "outputs": [],
      "source": [
        "y_values = set(df[y_column].values)\n",
        "x_values = set(df[x_column].values)"
      ]
    },
    {
      "cell_type": "code",
      "execution_count": 15,
      "metadata": {
        "id": "oN7XsWhTkPJI"
      },
      "outputs": [],
      "source": [
        "data_points = []\n",
        "\n",
        "for x in x_values:\n",
        "    for y in y_values:\n",
        "\n",
        "        try:\n",
        "          data_points.append((x, y, counts.loc[x, y].values[0]))\n",
        "        except:\n",
        "          continue"
      ]
    },
    {
      "cell_type": "code",
      "execution_count": 16,
      "metadata": {
        "id": "IoGqL039wt9Z"
      },
      "outputs": [],
      "source": [
        "x =[]\n",
        "y = []\n",
        "s = []\n",
        "for entry in data_points:\n",
        "  x.append(entry[0])\n",
        "  y.append(entry[1])\n",
        "  s.append(entry[2] * 5000) # circle size proportional to counts\n",
        "\n"
      ]
    },
    {
      "cell_type": "code",
      "execution_count": null,
      "metadata": {
        "colab": {
          "base_uri": "https://localhost:8080/",
          "height": 449
        },
        "id": "1CIQv50Uw4yu",
        "outputId": "d494a9ff-d384-46ca-e8a4-265cc9bbf8f1"
      },
      "outputs": [],
      "source": [
        "plt.scatter(x,y, s=s, c=s, cmap=\"cool\")\n",
        "plt.xlabel(x_label)\n",
        "plt.ylabel(y_label)\n",
        "\n",
        "if use_trend_line:\n",
        "  plt.plot(x, np.array(x) * b_trend_line + a_trend_line, c=\"red\")\n",
        "\n",
        "if use_grid:\n",
        "  plt.grid()\n",
        "plt.savefig(\"Häufigkeitsplot\", dpi=300.0)"
      ]
    }
  ],
  "metadata": {
    "colab": {
      "provenance": []
    },
    "kernelspec": {
      "display_name": "Python 3",
      "name": "python3"
    },
    "language_info": {
      "name": "python"
    }
  },
  "nbformat": 4,
  "nbformat_minor": 0
}
